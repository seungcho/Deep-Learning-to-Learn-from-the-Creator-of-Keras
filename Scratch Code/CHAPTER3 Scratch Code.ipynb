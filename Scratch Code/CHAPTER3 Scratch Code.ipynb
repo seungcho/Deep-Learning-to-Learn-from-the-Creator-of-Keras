{
 "cells": [
  {
   "cell_type": "code",
   "execution_count": null,
   "metadata": {},
   "outputs": [],
   "source": [
    "# tensorflow == 1.15 code\n",
    "\n",
    "import tensorflow as tf \n",
    "# tf.enable_eager_execution()\n",
    "\n",
    "model = tf.keras.models.Sequential()\n",
    "model.add(tf.keras.layers.Dense(units = 32, input_dim = 784))\n",
    "model.add(tf.keras.layers.Dense(units = 10, input_dim = 32))"
   ]
  },
  {
   "cell_type": "code",
   "execution_count": null,
   "metadata": {},
   "outputs": [],
   "source": [
    "# tensorflow code\n",
    "model = tf.keras.models.Sequential()\n",
    "model.add(tf.keras.layers.Dense(units = 32,\n",
    "                                input_dim = 784,\n",
    "                                activation = 'relu'))\n",
    "model.add(tf.keras.layers.Dense(units = 10, \n",
    "                                input_dim = 32,\n",
    "                                activation = 'softmax'))\n",
    "\n",
    "rms_optimizer = tf.keras.optimizers.RMSprop(lr=0.001)\n",
    "\n",
    "model.compile(optimizer = rms_optimizer, loss = 'mse', metrics = ['accuracy'])\n",
    "\n",
    "# model.fit(input_tensor, target_tensor, batch_size=128, epochs=10)"
   ]
  },
  {
   "cell_type": "code",
   "execution_count": 1,
   "metadata": {},
   "outputs": [],
   "source": [
    "import numpy as np"
   ]
  },
  {
   "cell_type": "code",
   "execution_count": null,
   "metadata": {},
   "outputs": [],
   "source": [
    "k = 4\n",
    "num_val_sample = len(train_data) // k\n",
    "num_epochs = 100\n",
    "all_score = []\n",
    "\n",
    "for i in range(k):\n",
    "    print('처리중인 폴드 #',i)\n",
    "    val_data = train[data]"
   ]
  }
 ],
 "metadata": {
  "kernelspec": {
   "display_name": "Python 3",
   "language": "python",
   "name": "python3"
  },
  "language_info": {
   "codemirror_mode": {
    "name": "ipython",
    "version": 3
   },
   "file_extension": ".py",
   "mimetype": "text/x-python",
   "name": "python",
   "nbconvert_exporter": "python",
   "pygments_lexer": "ipython3",
   "version": "3.6.9"
  }
 },
 "nbformat": 4,
 "nbformat_minor": 4
}
