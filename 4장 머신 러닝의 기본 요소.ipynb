{
 "cells": [
  {
   "cell_type": "markdown",
   "metadata": {},
   "source": [
    "## **CHAPTER 4 머신러닝의 기본 요소**"
   ]
  },
  {
   "cell_type": "markdown",
   "metadata": {},
   "source": [
    "## **4.1 머신 러닝의 네 가지 분류**"
   ]
  },
  {
   "cell_type": "markdown",
   "metadata": {},
   "source": [
    "- **이진 분류, 다중 분류, 스칼라 회귀 이 셋은 모두 지도 학습의 대표적인 예입니다.**\n",
    "\n",
    "> - **지도 학습의 목표는 훈련 데이터의 입력과 타깃 사이에 있는 관계를 학습하는 것이다.**\n",
    "\n",
    "- **지도 학습은 빙산의 일각일 뿐이며, 전체 머신 러닝은 복잡한 하위 분류를 가진 방대한 부야이다.**"
   ]
  },
  {
   "cell_type": "markdown",
   "metadata": {},
   "source": [
    "### **4.1.1 지도 학습**"
   ]
  },
  {
   "cell_type": "markdown",
   "metadata": {},
   "source": [
    "- **지도 학습이 가장 흔한 경우로, (종종 사람이 레이블링한) 샘플 데이터가 주어지면 알고 있는 타깃에 입력 데이터를 매핑하는 방법을 학습한다.**\n",
    "\n",
    "- **요즘 스포트라이트를 받는 광학 문자 판독, 음성 인식, 이미지 분류, 언어 번역 같은 딥러닝의 거의 모든 애플리케이션이 일반적으로 이 범주에 속한다.**\n",
    "\n",
    "- **지도 학습은 대부분 분류와 회귀로 구성되지만 다음과 같은 특이한 변종도 많다.**\n",
    "\n",
    "> - **시퀀스 생성: 사진이 주어지면 이를 설명하는 캡션을 생성한다. 시퀸스 생성은 이따금 (시퀀스에 있는 단어나 토큰을 반복적으로 예측하는 것처럼) 일련의 분류 문제로 재구성 할 수 있다.**\n",
    "\n",
    "> - **구문 트리 예측: 문장이 주어지면 분해된 구문 트리를 예측한다.**\n",
    "\n",
    "> - **물체 감지: 사진이 주어지면 사진 안에 특정 물체 주위에 경계 상자를 그린다. 이는 (많은 경계 상자 후보가 주어졌을 때 각 상자의 내용을 분류하는) 분류 문제로 표현되거나, 경계 상의 좌표 벡터를 회귀로 예측하는 회귀와 분류가 결합된 문제로 표현 할 수 있다.**\n",
    "\n",
    "> - **이미지 분할: 사진이 주어졌을 때 픽셀 단위로 특정 물체에 마스킹을 한다.**"
   ]
  },
  {
   "cell_type": "markdown",
   "metadata": {},
   "source": [
    "### **4.1.2 비지도 학습**"
   ]
  },
  {
   "cell_type": "markdown",
   "metadata": {},
   "source": [
    "- **이 부류의 머신 러닝은 어떤 타깃도 사용하지 않고 입력 데이터에 대한 흥미로운 변환을 찾는다. 데이터 시각화, 데이터 압축, 데이터의노이즈 제거 또는 데이터에 있는 상관관계를 더 잘 이해하기 위해 사용한다.**\n",
    "\n",
    "- **비지도 학습은 데이터 분석에서 빼놓을 수 없는 요소이며, 종종 지도 학습 문제를 풀기 전에 데이터셋을 잘 이해하기 위해 필수적으로 거치는 단계이다.**\n",
    "\n",
    "- **차원 축소와 군집이 비지도 학습에서 잘 알려진 범주이다.**"
   ]
  },
  {
   "cell_type": "markdown",
   "metadata": {},
   "source": [
    "### **4.1.3 자기 지도 학습**"
   ]
  },
  {
   "cell_type": "markdown",
   "metadata": {},
   "source": [
    "- **자기 지도 학습은 지도 학습의 특별하 경우이지만 별도의 범주로 할 만큼 충분히 다르다.**\n",
    "\n",
    "> - **자기 지도 학습은 지도 학습이지만 사람이 만든 레이블은 사용하지 않는다. 즉, 학습 과정에 사람이 개입하지 않는 지도학습이라고 생각할 수 있다.**\n",
    "\n",
    "> - **학습이 무언가에 지도되어야 하므로 레이블이 여전히 필요하지만 보통 경험적인 알고리즘을 사용해서 입력 데이터로부터 생성한다.**\n",
    "\n",
    "- **오토인코더가 잘 알려진 자기 지도 학습의 예 이다.**\n",
    "\n",
    "> - **여기서 생성된 타깃은 수정하지 않은 원본 입력이다. 같은 방식으로 지난 프레임이 주어졌을 때 비디오의 다음 프레임을 예측하는 것이나, 이전 단어가 주어졌을 때 다음 단어를 예측하는 것이 자기 지도학습의 예이다.( 이 경우에는 미래의 입력 데이터로부터 지도되기 때문에 시간에 따른 지도 학습이다.)**\n",
    "\n",
    "- **이 범주들은 명확한 경계가 없고 연속적이다. 자기 지도 학습은 학습 메커니즘과 애플리케이션 측면 중 어디에 두는지에 따라 지도 학습 또는 비지도 학습으로 재해석 될 수 있다.**"
   ]
  },
  {
   "cell_type": "markdown",
   "metadata": {},
   "source": [
    "### **4.1.4 강화 학습**"
   ]
  },
  {
   "cell_type": "markdown",
   "metadata": {},
   "source": [
    "**강화 학습에서 에이전트(agent)는 환경에 대한 정보를 받아 보상을 최대화하는 행동을 선택하도록 학습됩니다.**\n",
    "\n",
    "> - **강화 학습으로 훈련된 신경망은 비디오 게임 화면을 입력으로 받고 게임 점수를 최대화하기 위한 게임 내의 행동을 출력할 수 있다.**\n",
    "\n",
    "> - **현재 강화 학습은 대부분 연구 영역에 속해 있고 게임 이외에 실제적인 성공 사례는 아직 많지 않다.**\n",
    "\n",
    "- **하지만 때가 되면 강화 학습이 실제 세상의 많은 애플리케이션을 대체할 것으로 기대하고 있다. 이런 애플리케이션에는 자율 주행 자동차, 자원 관리, 교육 등이 있다.**"
   ]
  },
  {
   "cell_type": "markdown",
   "metadata": {},
   "source": [
    "## **4.2 머신 러닝 모델 평가**"
   ]
  },
  {
   "cell_type": "markdown",
   "metadata": {},
   "source": [
    "- **머신 러닝의 목표는 처음 본 데이터에서 잘 작동하는 일반화된 모델을 얻는 것이다. 여기에서 과대적합은 주요 장애물이다.**\n",
    "\n",
    "- **관측할 수 있는 것만 제어할 수 있으므로 모델의 일반화 성능에 대한 신뢰할 수 있는 측정 방법이 아주 중요하다.**"
   ]
  },
  {
   "cell_type": "markdown",
   "metadata": {},
   "source": [
    "### **4.2.1 훈련, 검증, 테스트 세트**"
   ]
  },
  {
   "cell_type": "markdown",
   "metadata": {},
   "source": [
    "- **모델 평가의 핵심은 가용한 데이터를 항상 훈련, 검증, 테스트 3개의 세트로 나누는 것이다.**\n",
    "\n",
    "> - **훈련 세트에서 모델을 훈련하고 검증 세트에서 모델을 평가한다. 그리고 모델을 출시할 준비가 되면 테스트 세트에서 최종적으로 딱 한 번 모델을 테스트한다.**\n",
    "\n",
    "- **그렇다면 훈련 세트와 테스트 세트 2개를 사용하면 어떨까??**\n",
    "\n",
    "> - **이렇게 하지 않은 이유는 모델을 개발할 때 항상 모델의 설정을 튜닝하기 때문이다.**\n",
    "\n",
    "> - **예를 들어 층의 수나 층의 유닛 수를 선택한다.(이런 파라미터를 네트워크의 가중치와 구분하기 위해 하이퍼파라미터 라고 부른다.)**\n",
    "\n",
    "> - **그리고 검증 세트에서 모델의 성능을 평가하여 이런 튜닝을 수행한다. 본질적으로 이런 튜닝도 어떤 파라미터 공간에서 좋은 설정을 찾는 학습이다. 결국 검증 세트의 성능을 기반으로 모델의 설정을 튜닝하면 검증 세트 모델을 직접 훈련 하지 않더라도 빠르게 검증 세트에 과대 적합될 수 있다.**\n",
    "\n",
    "- **이 현상의 핵심은 정보 누설 개념에 있다. 즉, 검증 세트의 모델 성능에 기반하여 모델의 하이퍼파라미터를 조정할 때마다 검증 데이터에 관한 정보가 모델로 새는 것이다.**\n",
    "\n",
    "> - **하나의 파라미터에 대해서 단 한 번만 튜닝한다면 아주 적은 정보가 누설된다. 이런 검증 세트로는 모델을 평가할 만하다.**\n",
    "\n",
    "> - **하지만 한 번 튜닝하고 나서 검증 세트에 평가한 결과를 가지고 다시 모델을 조정하는 과정을 여러 번 반복하면, 검증 세트에 관한 정보를 모델에 아주 많이 노출시키게 된다.**\n",
    "\n",
    "> - **결국 검증 데이터에 맞추어 최적화했기 때문에 검증 데이터에 의도적으로 잘 수행되는 모델이 만들어진다.**\n",
    "\n",
    "- **검증 데이터가 아니고 완전히 새로운 데이터에 대한 성능이 관심 대상이라면 모델을 평가하기 위해 이전에 본 적 없는 완전히 다른 데이터셋을 사용해야 한다. 그것이 바로 테스트 세트이다.**\n",
    "\n",
    "> - **모델은 간접적으로라도 테스트 세트에 대한 어떤 정보도 얻어서는 안 된다. 테스트 세트 성능에 기초하여 튜닝한 모델의 모든 설정은 일반화 성능을 왜곡시킬 것이다.**\n",
    "\n",
    "- **데이터를 훈련, 검증, 테스트 세트로 나누는 것은 간단해 보일 수 있지만 데이터가 적을 때는 몇가지 고급 기법을 사용하면 도움이 된다. 대표적인 세 가지 평가 방법인 단순 홀드아웃 검증, K-겹 교차 검증, 셔플링을 사용한 반복 K-겹 교차 검증을 살펴본다.**\n",
    "\n"
   ]
  },
  {
   "cell_type": "markdown",
   "metadata": {},
   "source": [
    "### **단순 홀드아웃 검증**"
   ]
  },
  {
   "cell_type": "markdown",
   "metadata": {},
   "source": [
    "- **정보 누설을 막기 위해 테스트 세트를 사용하여 모델을 튜닝해서는 안 되며, 이러한 이유로 검증 세트도 따로 떼어 놓아야 한다.**"
   ]
  },
  {
   "cell_type": "markdown",
   "metadata": {},
   "source": [
    "![TEST](./img/홀드아웃.png)"
   ]
  },
  {
   "cell_type": "markdown",
   "metadata": {},
   "source": [
    "- **이 평가 방법은 단순해서 한 가지 단점이 있다. 데이터가 적을 때는 검증 세트와 테스트 세트의 샘플이 너무 적어 주어진 전체 데이터를 통계적으로 대표하지 못할 수 있다.**\n",
    "\n",
    "> - **쉽게 이를 확인할 수 있는 방법은 다른 난수 초기값으로 셔플링해서 데이터를 나누었을 때 모델의 성능이 매우 달라지면 바로 이 문제이다.**"
   ]
  },
  {
   "cell_type": "markdown",
   "metadata": {},
   "source": [
    "### **K-겹 교차 검증**"
   ]
  },
  {
   "cell_type": "markdown",
   "metadata": {},
   "source": [
    "- **이 방식에서는 데이터를 동일한 크기를 가진 K개 분할로 나눈다. 각 분할 i에 대해 남은 K-1개의 분할로 모델을 훈련하고 분할 i에서 모델을 평가합니다.**\n",
    "\n",
    "- **최종 점수는 이렇게 얻은 K개의 점수를 평균한다.**\n",
    "\n",
    "> - **이 방법은 모델의 성능이 데이터 분할에 따라 편차가 클 때 도움이 되며, 홀드아웃 검증처럼 이 방법은 모델의 튜닝에 별개의 검증 세트를 사용하게 된다.**"
   ]
  },
  {
   "cell_type": "markdown",
   "metadata": {},
   "source": [
    "![test](./img/교차검증.png)"
   ]
  },
  {
   "cell_type": "markdown",
   "metadata": {},
   "source": [
    "### **셔플링을 사용한 반복 K-겹 교차 검증**"
   ]
  },
  {
   "cell_type": "markdown",
   "metadata": {},
   "source": [
    "**이 방법은 비교적 가용 데이터가 적고 가능한 정확하게 모델을 평가하고자 할 때 사용한다.(캐글 경연에서는 이 방법이 아주 큰 도움이 됨)**\n",
    "\n",
    "**이 방법은 K-겹 교차 검증을 여러 번 적용하되 K개의 분할로 나누기 전에 매번 데이터를 무작위로 섞는다.**\n",
    "\n",
    "**최종 점수는 모든 K-겹 교차 검증을 실행해서 얻은 점수의 평균이 된다. 결국 P X K개(P는 반복 횟수)의 모델을 훈련하고 평가하므로 비용이 매우 많이 든다.**"
   ]
  },
  {
   "cell_type": "markdown",
   "metadata": {},
   "source": [
    "### **4.2.2 기억해야 할 것**"
   ]
  },
  {
   "cell_type": "markdown",
   "metadata": {},
   "source": [
    "- **대표성 있는 데이터: 훈련 세트와 테스트 세트가 주어진 데이터에 대한 대표성이 있어야 한다.**\n",
    "\n",
    "> - **훈련 세트와 테스트 세트로 나누기 전에 데이터를 무작위로 섞는 것이 일반적**\n",
    "\n",
    "- **시간의 방향: 과거로부터 미래를 예측(내일의 날씨, 주식 시세 등..)하려고 한다면 데이터를 분할하기 전에 무작위로 섞어서는 절대 안 된다**\n",
    "\n",
    "> - **이렇게 하면 미래의 정보가 누설되기 때문이다.**\n",
    "\n",
    "> - **즉, 모델이 사실상 미래 데이터에서 훈련 될 것이며, 이런 문제에서는 훈련 세트에 있는 데이터보다 테스트 세트에 있는 모든 데이터가 미래의 것이어야 한다.**\n",
    "\n",
    "- **데이터 중복: 한 데이터셋에 어떤 데이터 포인트가 두 번 등장하면, 데이터를 섞고 훈련 세트와 검증 세트로 나누었을 때 훈련 세트와 검증 세트에 데이터 포인트가 중복될 수 있다.**\n",
    "\n",
    "> - **이로 인해 훈련 데이터의 일부로 테스트하는 최악의 경우가 된다. 훈련 세트와 검증 세트가 중복되지 않는지 확인하는 습관을 기르자.**"
   ]
  },
  {
   "cell_type": "markdown",
   "metadata": {},
   "source": [
    "## **4.3 데이터 전처리, 특성 공학, 특성 학습**"
   ]
  },
  {
   "cell_type": "markdown",
   "metadata": {},
   "source": [
    "**신경망에 입력 데이터와 타깃 데이터를 주입하기 전에 어떻게 준비해야 할까? 많은 데이터 전처리와 특성 공학 기법은 특정 도메인에 종속적이다.**"
   ]
  },
  {
   "cell_type": "markdown",
   "metadata": {},
   "source": [
    "### **4.3.1 신경망을 위한 데이터 전처리**"
   ]
  },
  {
   "cell_type": "markdown",
   "metadata": {},
   "source": [
    "**데이터 전처리 목적은 주어진 원본 데이터를 신경망에 적용하기 쉽도록 만든 것이다. 벡터화(vectorization), 정규화(normalization), 누락된 값 다루기, 특성 추출 들이 포함된다.**"
   ]
  },
  {
   "cell_type": "markdown",
   "metadata": {},
   "source": [
    "### **벡터화**"
   ]
  },
  {
   "cell_type": "markdown",
   "metadata": {},
   "source": [
    "**신경망에서 모든 입력과 타깃은 부동 소수 데이터로 이루어진 텐서여야 한다.(또는 특정 경우에 정수로 이루어진 텐서이다.) 사운드, 이미지, 텍스트 등 처리해야 할 것이 무엇이든지 먼저 텐서로 변환해야 한다. 이 단계를 데이터 벡터화라고 한다.**"
   ]
  },
  {
   "cell_type": "markdown",
   "metadata": {},
   "source": [
    "### **값 정규화**"
   ]
  },
  {
   "cell_type": "markdown",
   "metadata": {},
   "source": [
    "**숫자 이미지 분류 예에서 이미지 데이터를 그레이스케일 인코딩인 0 ~ 255 사이의 정수로 인코딩했다. 이 데이터를 네트워크에 주입하기 전에 float32타입으로 변경하고 255로 나누어서 최종적으로 0 ~ 1 사이의 부동 소수 값으로 만들었다.**"
   ]
  },
  {
   "cell_type": "markdown",
   "metadata": {},
   "source": [
    "**일반적으로 비교적 큰 값(예를 들어 네트워크의 가중치 초깃값보다 훨씬 큰 여러 자릿수를 가진 정수)이나 균일하지 않은 데이터(예를 들어 한 특성의 범위는 0 ~ 1이고 다른 특성은 100 ~ 200인 데이터)를 신경망에 주입하는 것은 위험하다. 이렇게 하면 업데이트할 그래디언트가 커져 네트워크가 수렴하는 것을 방해한다.**\n",
    "\n",
    "> **작은 값을 취한다. 일반적으로 대부분의 값이 0 ~ 1 사이여야 한다.**\n",
    "\n",
    "> **균일해야 한다. 즉 모든 특성이 대체로 비슷한 범위를 가져야 한다.**"
   ]
  },
  {
   "cell_type": "markdown",
   "metadata": {},
   "source": [
    "**다음에 나오는 정규화 방법은 꼭 필수적이지는 않지만 자주 사용되고 도움이 될 수 있다.**\n",
    "\n",
    "> **각 특성별로 평균이 0이 되도록 정규화한다.**\n",
    "\n",
    "> **각 특성별로 표준 편차가 1이 되도록 정규화한다.**"
   ]
  },
  {
   "cell_type": "markdown",
   "metadata": {},
   "source": [
    "### **누락된 값 다루기**"
   ]
  },
  {
   "cell_type": "markdown",
   "metadata": {},
   "source": [
    "**이따금 데이터에 값이 누학된 경우가 있다.**"
   ]
  },
  {
   "cell_type": "markdown",
   "metadata": {},
   "source": [
    "**일반적으로 신경망에서 0이 사전에 정의된 의미 있는 값이 아니라면 누락된 값을 0으로 입력해도 괜찮다. 네트워크가 0이 누락된 데이터를 의미한다는 것을 학습하면 이 값을 무시하기 시작할 것이다.**"
   ]
  },
  {
   "cell_type": "markdown",
   "metadata": {},
   "source": [
    "**테스트 데이터에 누락된 값이 포함될 가능성이 있다고 가정할때, 네트워크가 누락된 값이 없는 데이터에서 훈련되었다면 이 네트워크는 누락된 값을 무시하는 법을 알지 못한다.**"
   ]
  },
  {
   "cell_type": "markdown",
   "metadata": {},
   "source": [
    "**이런 경우에는 누락된 값이 있는 훈련 샘플을 고의적으로 만들어야 한다. 훈련 샘플의 일부를 여러벌 복사해서 테스트 데이터에서 빠질 것 같은 특성을 제거한다.**\n",
    "\n",
    "> **즉 훈련 데이터에 누락된 값이 있는 샘플이 적다면 테스트 세트를 떼어 놓기 전에 이 샘플들을 제외시킬 수 있으며, 또는 누락된 값이 있는 특성이 덜 중요하다고 판단되면 이 특성을 모두 제외시킬 수 있다.**"
   ]
  },
  {
   "cell_type": "markdown",
   "metadata": {},
   "source": [
    "### **4.3.2 특성 공학**"
   ]
  },
  {
   "cell_type": "markdown",
   "metadata": {},
   "source": [
    "**특성 공학은 데이터와 머신 러닝 알고리즘(여기에서는 신경망)에 관한 지식을 사용하는 단계이다.**"
   ]
  },
  {
   "cell_type": "markdown",
   "metadata": {},
   "source": [
    "**모델에 데이터를 주입하기 전에 (학습이 아닌) 하드코딩된 변환을 적용하여 알고리즘이 더 잘 수행되도록 만들어 준다.**"
   ]
  },
  {
   "cell_type": "markdown",
   "metadata": {},
   "source": [
    "**많은 경우에 머신 러닝 모델이 임의의 데이터로부터 완벽한 학습을 한다고 기대하기는 어렵다**"
   ]
  },
  {
   "cell_type": "markdown",
   "metadata": {},
   "source": [
    "**즉, 모델이 수월하게 작업할 수 있는 어떤 방식으로 데이터가 표현될 필요가 있다.**"
   ]
  },
  {
   "cell_type": "markdown",
   "metadata": {},
   "source": [
    "**특성을 더 간단한 방식으로 표현하여 문제를 쉽게 만든다. 일반적으로 해당 문제를 아주 잘 이해하고 있어야 한다.**"
   ]
  },
  {
   "cell_type": "markdown",
   "metadata": {},
   "source": [
    "**딥러닝 이전에는 특성 공학이 아주 중요했다. 전통적인 얕은 학습 방법의 알고리즘들은 스스로 유용한   특성을 학습할 만큼 충분히 넓은 가성 공간을 가지고 있지 않았다. 즉, 알고리즘에 데이터를 표현하는 방식에 성공 여부가 달려있었다.**"
   ]
  },
  {
   "cell_type": "markdown",
   "metadata": {},
   "source": [
    "**다행히 최근 딥러닝은 대부분 특성 공학이 필요하지 않다. 신경망이 자동으로 원본 데이터에서 유용한 특성을 추출할 수 있기 때문이다. 그렇다면 심층 신경망을 사용할 때는 특성 공학에 대해 신경 쓰지 않아도 될까? 두 가지 이유로 그렇지 않다.**\n",
    "\n",
    "> **좋은 특성은 적은 자원을 사용하여 문제를 더 멋지게 풀어낼 수 있다.**\n",
    "\n",
    "> **좋은 특성은 더 적은 데이터로 문제를 풀 수 있다. 딥러닝 모델이 스스로 특성을 학습하는 능력은 가용한 훈련 데이터가 많을 때 발휘된다. 샘플의 개수가 적다면 특성에 있는 정보가 매우 중요해진다.**"
   ]
  },
  {
   "cell_type": "markdown",
   "metadata": {},
   "source": [
    "## **4.4 과대적합과 과소적합**"
   ]
  },
  {
   "cell_type": "markdown",
   "metadata": {},
   "source": [
    "**모델의 성능이 몇 번의 에포크 후에 최고치에 다다랐다가 감소되기 시작했다. 즉, 모델이 금방 훈련 데이터에 과대적합되기 시작했다는 것.**"
   ]
  },
  {
   "cell_type": "markdown",
   "metadata": {},
   "source": [
    "**과대적합은 모든 머신 러닝 문제에서 발생한다. 머신 러닝을 마스터하려면 과대적합을 다루는 방법을 꼭 배워야 합니다.**"
   ]
  },
  {
   "cell_type": "markdown",
   "metadata": {},
   "source": [
    "**머신 러닝의 근본적인 이슈는 최적화와 일반화 사이의 줄다리기이다.**\n",
    "\n",
    "> **최적화는 가능한 훈련 데이터에서 최고의 성능을 얻으려고 모델을 조정하는 과정이다.**\n",
    "\n",
    "> **일반화는 훈련된 모델이 이전에 본 적 없는 데이터에서 얼마나 잘 수행되는지 의미한다.**\n",
    "\n",
    "**물론 모델을 만드는 목적은 좋은 일반화 성능을 얻는 것이다. 하지만 일반화 성능을 제어할 방법이 없다. 단지 훈련 데이터를 기반으로 모델을 조정할 수만 있다.**"
   ]
  },
  {
   "cell_type": "markdown",
   "metadata": {},
   "source": [
    "**훈련 초기에 최적화와 일반화는 상호 연관되어 있다. 훈련 데이터의 손실이 낮아질수록 테스트 데이터의 손실도 낮아진다. 이런 상황이 발생할 때 모델이 과소적합 되었다고 말한다. 모델의 성능이 계속 발전될 여지가 있다. 즉, 네트워크가 훈련 데이터에 있는 관련 특성을 모두 학습하지 못했다.**"
   ]
  },
  {
   "cell_type": "markdown",
   "metadata": {},
   "source": [
    "**하지만 훈련 데이터에 여러 번 반복 학습하고 나면 어느 시점부터 일반화 성능이 더 이상 높아지지 않는다. 검증 세트의 성능이 멈추고 감소되기 시작한다. 즉, 모델이 과대적합되기 시작한다. 이는 후년 데이터에 특화된 패턴을 학습하기 시작했다는 의미이다. 이 패턴은 새로운 데이터와 관련성이 적어 잘못된 판단을 하게 만든다.**"
   ]
  },
  {
   "cell_type": "markdown",
   "metadata": {},
   "source": [
    "**모델이 관련성이 없고 좋지 못한 패턴을 훈련 데이터에서 학습하지 못하도록 하려면 가장 좋은 방법은 더 많은 훈련 데이터를 모으는 것이다. 더 많은 데이터에서 훈련된 모델은 자연히 일반화 성능이 더욱 뛰어나다.**"
   ]
  },
  {
   "cell_type": "markdown",
   "metadata": {},
   "source": [
    "**데이터를 더 모으는 것이 불가능할 때 차선책은 모델이 수용할 수 있는 정보의 양을 조절하거나 저장할 수 있는정보에 제약을 가하는 것이다.**\n",
    "\n",
    "> **네트워크가 적은 수의 패턴만 기억할 수 있다면 최적화 과정에서 가장 중요한 패턴에 집중하게 될 것이다. 이런 패턴은 더 나은 일반화 성능을 제공할 수 있다.**\n",
    "\n",
    "**이런 식으로 과대적합을 피하는 처리 과정을 규제하고 한다.**"
   ]
  },
  {
   "cell_type": "markdown",
   "metadata": {},
   "source": [
    "### **4.4.1 네트워크 크기 축소**"
   ]
  },
  {
   "cell_type": "markdown",
   "metadata": {},
   "source": [
    "**과대적합을 막는 가장 단순한 방법은 모델의 크기, 즉 모델에 있는 학습 파라미터의 수를 줄이는 것이다. 파라미터의 수는 층의 수와 각 층의 유닛 수에 의해 결정된다.**\n",
    "\n",
    "> **딥러닝 모델에 있는 학습 파라미터의 수를 종종 모델의 용량이라고 말한다.**\n",
    "\n",
    "**당연하게 파라미터가 많은 모델이 기억 용량이 더 많다. 훈련 샘플과 타깃 사이를 딕셔너리 같은 일대일 매핑으로 완벽하게 학습할 수도 있지만 이런 매핑 능력은 일반화 능력이 없다**"
   ]
  },
  {
   "cell_type": "markdown",
   "metadata": {},
   "source": [
    "**항상 유념해야 할 것은 딥러닝 모델은 훈련 데이터에 잘 맞추려는 경향이 있다는 점이다. 하지만 진짜 문제는 최적화가 아니고 일반화이다.**"
   ]
  },
  {
   "cell_type": "markdown",
   "metadata": {},
   "source": [
    "**다른 한편으로 네트워크가 기억 용량에 제한이 있다면 이런 매핑을 쉽게 학습하지 못할 것이다. 따라서 손실을 최소화하기 위해 타깃에 대한 예측 성능을 가진 압축된 표현을 학습해야한다.**"
   ]
  },
  {
   "cell_type": "markdown",
   "metadata": {},
   "source": [
    "**네트워크가 기억 용량에 제한이 있다면 이런 매핑을 쉽게 학습하지 못할 것이다.**\n",
    "\n",
    "> **따라서 손실을 최소화하기 위해 타깃에 대한 예측성능을 가진 압축된 표현을 학습해야 한다.**\n",
    "\n",
    "**동시에 기억해야 할 것은 과소적합되지 않도록 충분한 파라미터를 가진 모델을 사용해야 한다는 점이다. 또한 모델의 기억 용량이 부족해서는 안 된다. 너무 많은 용량과 충분하지 않은 용량 사이의 절충점을 찾아야 한다.**"
   ]
  },
  {
   "cell_type": "markdown",
   "metadata": {},
   "source": [
    "**안타깝지만 알맞은 층의 수나 각 층의 유닛 수를 결정할 수 있는 마법 같은 공식은 없다.**\n",
    "\n",
    "> **데이터에 말맞은 모델 크기를 찾으려면 각기 다른 구조를 (당연히 테스트 세트가 아니고 검증 세트에서) 평가해 보아야 한다. 적절한 모델 크기를 찾는 일반적인 작업 흐름은 비교적 적은 수의 층과 파라미터로 시작한다.**\n",
    "\n",
    "> **그다음 검증 손실이 감소되기 시작할 때까지 층이나 유닛의 수를 늘리는 것이다.**"
   ]
  },
  {
   "cell_type": "code",
   "execution_count": 10,
   "metadata": {},
   "outputs": [],
   "source": [
    "import tensorflow as tf"
   ]
  },
  {
   "cell_type": "code",
   "execution_count": 1,
   "metadata": {},
   "outputs": [
    {
     "name": "stderr",
     "output_type": "stream",
     "text": [
      "Using TensorFlow backend.\n"
     ]
    }
   ],
   "source": [
    "from keras.datasets import imdb\n",
    "import numpy as np"
   ]
  },
  {
   "cell_type": "code",
   "execution_count": 2,
   "metadata": {},
   "outputs": [],
   "source": [
    "# 훈련 데이터에서 자주 사용되는 단어 10,000개 불러오기\n",
    "(train_data,train_labels), (test_data,test_labels) = imdb.load_data(num_words=10000)"
   ]
  },
  {
   "cell_type": "code",
   "execution_count": 3,
   "metadata": {},
   "outputs": [],
   "source": [
    "def vectorize_sequence(sequence, dimension = 10000):\n",
    "    # 크기가 (len(sequence, dimension)) 이고 모든 원소가 0인 행렬을 만든다.\n",
    "    results = np.zeros((len(sequence),dimension))\n",
    "    for i, sequence in enumerate(sequence): # enumerate 함수를 통해 각 단어에 인덱스를 붙인다.\n",
    "        results[i,sequence] = 1. # results[i]에서 특정 인덱스의 위치를 1로 만든다.\n",
    "    return results\n",
    "\n",
    "x_train = vectorize_sequence(train_data) # 훈련 데이터를 벡터로 변환\n",
    "\n",
    "x_test = vectorize_sequence(test_data) # 테스트 데이터를 벡터로 변환\n",
    "# 레이블을 벡터로 변환\n",
    "y_train = np.asarray(train_labels).astype('float32')\n",
    "y_test = np.asarray(test_labels).astype('float32')"
   ]
  },
  {
   "cell_type": "code",
   "execution_count": 4,
   "metadata": {},
   "outputs": [],
   "source": [
    "from keras import models\n",
    "from keras import layers"
   ]
  },
  {
   "cell_type": "code",
   "execution_count": 5,
   "metadata": {},
   "outputs": [],
   "source": [
    "# 원래의 네트워크\n",
    "original_model = models.Sequential()"
   ]
  },
  {
   "cell_type": "code",
   "execution_count": 6,
   "metadata": {},
   "outputs": [],
   "source": [
    "original_model.add(layers.Dense(16, activation='relu',input_shape=(10000,)))\n",
    "original_model.add(layers.Dense(16,activation='relu',input_shape='relu'))\n",
    "original_model.add(layers.Dense(1,activation='sigmoid'))\n",
    "\n",
    "original_model.compile(optimizer='rmsprop',\n",
    "                      loss= 'binary_crossentropy',\n",
    "                      metrics = ['acc'])"
   ]
  },
  {
   "cell_type": "code",
   "execution_count": 7,
   "metadata": {},
   "outputs": [],
   "source": [
    "# 더 작은 네트워크\n",
    "smaller_model = models.Sequential()"
   ]
  },
  {
   "cell_type": "code",
   "execution_count": 8,
   "metadata": {},
   "outputs": [],
   "source": [
    "smaller_model.add(layers.Dense(6,activation='relu',input_shape=(10000,)))\n",
    "smaller_model.add(layers.Dense(6,activation='relu'))\n",
    "smaller_model.add(layers.Dense(1,activation='sigmoid'))\n",
    "\n",
    "smaller_model.compile(optimizer='rmsprop',\n",
    "                     loss = 'binary_crossentropy',\n",
    "                     metrics=['acc'])"
   ]
  },
  {
   "cell_type": "code",
   "execution_count": 9,
   "metadata": {},
   "outputs": [
    {
     "name": "stdout",
     "output_type": "stream",
     "text": [
      "Train on 25000 samples, validate on 25000 samples\n",
      "Epoch 1/20\n",
      "25000/25000 [==============================] - 3s 138us/step - loss: 0.4401 - acc: 0.8232 - val_loss: 0.3239 - val_acc: 0.8828\n",
      "Epoch 2/20\n",
      "25000/25000 [==============================] - 3s 114us/step - loss: 0.2532 - acc: 0.9076 - val_loss: 0.2803 - val_acc: 0.8905\n",
      "Epoch 3/20\n",
      "25000/25000 [==============================] - 3s 114us/step - loss: 0.1950 - acc: 0.9287 - val_loss: 0.2821 - val_acc: 0.8866\n",
      "Epoch 4/20\n",
      "25000/25000 [==============================] - 3s 113us/step - loss: 0.1632 - acc: 0.9408 - val_loss: 0.3056 - val_acc: 0.8800\n",
      "Epoch 5/20\n",
      "25000/25000 [==============================] - 3s 114us/step - loss: 0.1425 - acc: 0.9493 - val_loss: 0.3198 - val_acc: 0.8784\n",
      "Epoch 6/20\n",
      "25000/25000 [==============================] - 3s 113us/step - loss: 0.1208 - acc: 0.9580 - val_loss: 0.4456 - val_acc: 0.8481\n",
      "Epoch 7/20\n",
      "25000/25000 [==============================] - 3s 112us/step - loss: 0.1125 - acc: 0.9604 - val_loss: 0.3689 - val_acc: 0.8701\n",
      "Epoch 8/20\n",
      "25000/25000 [==============================] - 3s 112us/step - loss: 0.0999 - acc: 0.9652 - val_loss: 0.4087 - val_acc: 0.8644\n",
      "Epoch 9/20\n",
      "25000/25000 [==============================] - 3s 113us/step - loss: 0.0895 - acc: 0.9695 - val_loss: 0.4180 - val_acc: 0.8654\n",
      "Epoch 10/20\n",
      "25000/25000 [==============================] - 3s 113us/step - loss: 0.0786 - acc: 0.9732 - val_loss: 0.4624 - val_acc: 0.8586\n",
      "Epoch 11/20\n",
      "25000/25000 [==============================] - 3s 113us/step - loss: 0.0713 - acc: 0.9756 - val_loss: 0.5053 - val_acc: 0.8568\n",
      "Epoch 12/20\n",
      "25000/25000 [==============================] - 3s 113us/step - loss: 0.0636 - acc: 0.9788 - val_loss: 0.5129 - val_acc: 0.8580\n",
      "Epoch 13/20\n",
      "25000/25000 [==============================] - 3s 114us/step - loss: 0.0584 - acc: 0.9808 - val_loss: 0.5691 - val_acc: 0.8514\n",
      "Epoch 14/20\n",
      "25000/25000 [==============================] - 3s 114us/step - loss: 0.0500 - acc: 0.9843 - val_loss: 0.6165 - val_acc: 0.8468\n",
      "Epoch 15/20\n",
      "25000/25000 [==============================] - 3s 113us/step - loss: 0.0450 - acc: 0.9864 - val_loss: 0.6067 - val_acc: 0.8540\n",
      "Epoch 16/20\n",
      "25000/25000 [==============================] - 3s 114us/step - loss: 0.0403 - acc: 0.9877 - val_loss: 0.6413 - val_acc: 0.8517\n",
      "Epoch 17/20\n",
      "25000/25000 [==============================] - 3s 112us/step - loss: 0.0352 - acc: 0.9893 - val_loss: 0.6768 - val_acc: 0.8508\n",
      "Epoch 18/20\n",
      "25000/25000 [==============================] - 3s 112us/step - loss: 0.0294 - acc: 0.9914 - val_loss: 0.7109 - val_acc: 0.8493\n",
      "Epoch 19/20\n",
      "25000/25000 [==============================] - 3s 114us/step - loss: 0.0278 - acc: 0.9918 - val_loss: 0.7500 - val_acc: 0.8487\n",
      "Epoch 20/20\n",
      "25000/25000 [==============================] - 3s 114us/step - loss: 0.0214 - acc: 0.9941 - val_loss: 0.7871 - val_acc: 0.8485\n"
     ]
    }
   ],
   "source": [
    "original_hist = original_model.fit(x_train,y_train,\n",
    "                                  epochs=20,\n",
    "                                  batch_size=512,\n",
    "                                  validation_data=(x_test,y_test))"
   ]
  },
  {
   "cell_type": "code",
   "execution_count": 11,
   "metadata": {},
   "outputs": [
    {
     "name": "stdout",
     "output_type": "stream",
     "text": [
      "Train on 25000 samples, validate on 25000 samples\n",
      "Epoch 1/20\n",
      "25000/25000 [==============================] - 3s 118us/step - loss: 0.5142 - acc: 0.8154 - val_loss: 0.4129 - val_acc: 0.8684\n",
      "Epoch 2/20\n",
      "25000/25000 [==============================] - 3s 109us/step - loss: 0.3310 - acc: 0.8960 - val_loss: 0.3245 - val_acc: 0.8843\n",
      "Epoch 3/20\n",
      "25000/25000 [==============================] - 3s 112us/step - loss: 0.2513 - acc: 0.9181 - val_loss: 0.2903 - val_acc: 0.8888\n",
      "Epoch 4/20\n",
      "25000/25000 [==============================] - 3s 109us/step - loss: 0.2082 - acc: 0.9283 - val_loss: 0.2833 - val_acc: 0.8884\n",
      "Epoch 5/20\n",
      "25000/25000 [==============================] - 3s 111us/step - loss: 0.1804 - acc: 0.9390 - val_loss: 0.2811 - val_acc: 0.8892\n",
      "Epoch 6/20\n",
      "25000/25000 [==============================] - 3s 110us/step - loss: 0.1589 - acc: 0.9460 - val_loss: 0.2892 - val_acc: 0.8853\n",
      "Epoch 7/20\n",
      "25000/25000 [==============================] - 3s 110us/step - loss: 0.1422 - acc: 0.9529 - val_loss: 0.2986 - val_acc: 0.8827\n",
      "Epoch 8/20\n",
      "25000/25000 [==============================] - 3s 113us/step - loss: 0.1281 - acc: 0.9580 - val_loss: 0.3135 - val_acc: 0.8796\n",
      "Epoch 9/20\n",
      "25000/25000 [==============================] - 3s 111us/step - loss: 0.1175 - acc: 0.9621 - val_loss: 0.3281 - val_acc: 0.8772\n",
      "Epoch 10/20\n",
      "25000/25000 [==============================] - 3s 112us/step - loss: 0.1059 - acc: 0.9672 - val_loss: 0.3605 - val_acc: 0.8700\n",
      "Epoch 11/20\n",
      "25000/25000 [==============================] - 3s 113us/step - loss: 0.0968 - acc: 0.9704 - val_loss: 0.3681 - val_acc: 0.8719\n",
      "Epoch 12/20\n",
      "25000/25000 [==============================] - 3s 114us/step - loss: 0.0892 - acc: 0.9719 - val_loss: 0.3805 - val_acc: 0.8709\n",
      "Epoch 13/20\n",
      "25000/25000 [==============================] - 3s 110us/step - loss: 0.0808 - acc: 0.9761 - val_loss: 0.4130 - val_acc: 0.8637\n",
      "Epoch 14/20\n",
      "25000/25000 [==============================] - 3s 108us/step - loss: 0.0743 - acc: 0.9786 - val_loss: 0.4296 - val_acc: 0.8669\n",
      "Epoch 15/20\n",
      "25000/25000 [==============================] - 3s 108us/step - loss: 0.0679 - acc: 0.9815 - val_loss: 0.4433 - val_acc: 0.8654\n",
      "Epoch 16/20\n",
      "25000/25000 [==============================] - 3s 108us/step - loss: 0.0608 - acc: 0.9840 - val_loss: 0.4617 - val_acc: 0.8634\n",
      "Epoch 17/20\n",
      "25000/25000 [==============================] - 3s 110us/step - loss: 0.0560 - acc: 0.9853 - val_loss: 0.4997 - val_acc: 0.8616\n",
      "Epoch 18/20\n",
      "25000/25000 [==============================] - 3s 109us/step - loss: 0.0509 - acc: 0.9867 - val_loss: 0.5095 - val_acc: 0.8613\n",
      "Epoch 19/20\n",
      "25000/25000 [==============================] - 3s 109us/step - loss: 0.0459 - acc: 0.9888 - val_loss: 0.5343 - val_acc: 0.8602\n",
      "Epoch 20/20\n",
      "25000/25000 [==============================] - 3s 110us/step - loss: 0.0416 - acc: 0.9907 - val_loss: 0.5670 - val_acc: 0.8525\n"
     ]
    }
   ],
   "source": [
    "smaller_model_hist = smaller_model.fit(x_train,y_train,\n",
    "                                      epochs=20,\n",
    "                                      batch_size=512,\n",
    "                                      validation_data=(x_test,y_test))"
   ]
  },
  {
   "cell_type": "code",
   "execution_count": 16,
   "metadata": {},
   "outputs": [],
   "source": [
    "epochs = range(1,21) # 1번째 epochs 부터 20번째 epochs 까지\n",
    "original_val_loss = original_hist.history['val_loss'] # original_loss 값 기록\n",
    "smaller_model_val_loss = smaller_model_hist.history['val_loss'] # smaller_loss 값 기록"
   ]
  },
  {
   "cell_type": "code",
   "execution_count": 17,
   "metadata": {},
   "outputs": [],
   "source": [
    "import matplotlib.pyplot as plt"
   ]
  },
  {
   "cell_type": "code",
   "execution_count": 18,
   "metadata": {},
   "outputs": [
    {
     "data": {
      "image/png": "[encoded data removed]",
      "text/plain": [
       "<Figure size 432x288 with 1 Axes>"
      ]
     },
     "metadata": {},
     "output_type": "display_data"
    }
   ],
   "source": [
    "# 'b+' 는 파란색 덧셈 기호를 의미\n",
    "plt.plot(epochs,original_val_loss,'b+',label='Original model')\n",
    "# 'bo' 는 파란색 점을 의미\n",
    "plt.plot(epochs,smaller_model_val_loss,'bo',label='Smaller model')\n",
    "plt.xlabel('Epochs')\n",
    "plt.ylabel('Validation loss')\n",
    "plt.legend()\n",
    "\n",
    "plt.show()"
   ]
  },
  {
   "cell_type": "markdown",
   "metadata": {},
   "source": [
    "**위 시각화 결과를 볼 수 있듯이 작은 네트워크가 기본 네트워크보다 더 나중에 과대적합되기 시작했다.(6번째 epochs 쯤에서)**\n",
    "\n",
    "> **과대적합이 시작되었을 때 성능이 더 천천히 감소되었다.**"
   ]
  },
  {
   "cell_type": "code",
   "execution_count": 19,
   "metadata": {},
   "outputs": [],
   "source": [
    "bigger_model = models.Sequential()\n",
    "bigger_model.add(layers.Dense(1024, activation='relu', input_shape=(10000,)))\n",
    "bigger_model.add(layers.Dense(1024, activation='relu'))\n",
    "bigger_model.add(layers.Dense(1, activation='sigmoid'))\n",
    "\n",
    "bigger_model.compile(optimizer='rmsprop',\n",
    "                     loss='binary_crossentropy',\n",
    "                     metrics=['acc'])"
   ]
  },
  {
   "cell_type": "code",
   "execution_count": 20,
   "metadata": {},
   "outputs": [
    {
     "name": "stdout",
     "output_type": "stream",
     "text": [
      "Train on 25000 samples, validate on 25000 samples\n",
      "Epoch 1/20\n",
      "25000/25000 [==============================] - 36s 1ms/step - loss: 0.5561 - acc: 0.7860 - val_loss: 0.2961 - val_acc: 0.8837\n",
      "Epoch 2/20\n",
      "25000/25000 [==============================] - 35s 1ms/step - loss: 0.2181 - acc: 0.9150 - val_loss: 0.3442 - val_acc: 0.8650\n",
      "Epoch 3/20\n",
      "25000/25000 [==============================] - 34s 1ms/step - loss: 0.1199 - acc: 0.9570 - val_loss: 0.3368 - val_acc: 0.8826\n",
      "Epoch 4/20\n",
      "25000/25000 [==============================] - 34s 1ms/step - loss: 0.0657 - acc: 0.9838 - val_loss: 0.4444 - val_acc: 0.8849\n",
      "Epoch 5/20\n",
      "25000/25000 [==============================] - 34s 1ms/step - loss: 0.1140 - acc: 0.9864 - val_loss: 0.6376 - val_acc: 0.8676\n",
      "Epoch 6/20\n",
      "25000/25000 [==============================] - 34s 1ms/step - loss: 0.0014 - acc: 1.0000 - val_loss: 0.6543 - val_acc: 0.8830\n",
      "Epoch 7/20\n",
      "25000/25000 [==============================] - 34s 1ms/step - loss: 7.2837e-04 - acc: 1.0000 - val_loss: 0.7726 - val_acc: 0.8817\n",
      "Epoch 8/20\n",
      "25000/25000 [==============================] - 34s 1ms/step - loss: 6.5282e-04 - acc: 1.0000 - val_loss: 1.1004 - val_acc: 0.8536\n",
      "Epoch 9/20\n",
      "25000/25000 [==============================] - 34s 1ms/step - loss: 0.1360 - acc: 0.9863 - val_loss: 0.7933 - val_acc: 0.8776\n",
      "Epoch 10/20\n",
      "25000/25000 [==============================] - 34s 1ms/step - loss: 6.5850e-04 - acc: 1.0000 - val_loss: 0.8133 - val_acc: 0.8803\n",
      "Epoch 11/20\n",
      "25000/25000 [==============================] - 35s 1ms/step - loss: 6.4818e-04 - acc: 1.0000 - val_loss: 0.8710 - val_acc: 0.8808\n",
      "Epoch 12/20\n",
      "25000/25000 [==============================] - 34s 1ms/step - loss: 6.4554e-04 - acc: 1.0000 - val_loss: 0.9475 - val_acc: 0.8812\n",
      "Epoch 13/20\n",
      "25000/25000 [==============================] - 34s 1ms/step - loss: 6.4495e-04 - acc: 1.0000 - val_loss: 1.0119 - val_acc: 0.8814\n",
      "Epoch 14/20\n",
      "25000/25000 [==============================] - 34s 1ms/step - loss: 6.4486e-04 - acc: 1.0000 - val_loss: 1.0440 - val_acc: 0.8815\n",
      "Epoch 15/20\n",
      "25000/25000 [==============================] - 35s 1ms/step - loss: 6.4484e-04 - acc: 1.0000 - val_loss: 1.0609 - val_acc: 0.8814\n",
      "Epoch 16/20\n",
      "25000/25000 [==============================] - 35s 1ms/step - loss: 6.4484e-04 - acc: 1.0000 - val_loss: 1.0705 - val_acc: 0.8813\n",
      "Epoch 17/20\n",
      "25000/25000 [==============================] - 34s 1ms/step - loss: 6.4484e-04 - acc: 1.0000 - val_loss: 1.0769 - val_acc: 0.8813\n",
      "Epoch 18/20\n",
      "25000/25000 [==============================] - 34s 1ms/step - loss: 6.4483e-04 - acc: 1.0000 - val_loss: 1.0829 - val_acc: 0.8812\n",
      "Epoch 19/20\n",
      "25000/25000 [==============================] - 34s 1ms/step - loss: 6.4483e-04 - acc: 1.0000 - val_loss: 1.0869 - val_acc: 0.8812\n",
      "Epoch 20/20\n",
      "25000/25000 [==============================] - 34s 1ms/step - loss: 6.4483e-04 - acc: 1.0000 - val_loss: 1.0903 - val_acc: 0.8811\n"
     ]
    }
   ],
   "source": [
    "bigger_model_hist = bigger_model.fit(x_train, y_train,\n",
    "                                     epochs=20,\n",
    "                                     batch_size=512,\n",
    "                                     validation_data=(x_test, y_test))"
   ]
  },
  {
   "cell_type": "code",
   "execution_count": 21,
   "metadata": {},
   "outputs": [
    {
     "data": {
      "image/png": "[encoded data removed]",
      "text/plain": [
       "<Figure size 432x288 with 1 Axes>"
      ]
     },
     "metadata": {},
     "output_type": "display_data"
    }
   ],
   "source": [
    "bigger_model_val_loss = bigger_model_hist.history['val_loss']\n",
    "\n",
    "plt.plot(epochs, original_val_loss, 'b+', label='Original model')\n",
    "plt.plot(epochs, bigger_model_val_loss, 'bo', label='Bigger model')\n",
    "plt.xlabel('Epochs')\n",
    "plt.ylabel('Validation loss')\n",
    "plt.legend()\n",
    "\n",
    "plt.show()"
   ]
  },
  {
   "cell_type": "markdown",
   "metadata": {},
   "source": [
    "**용량이 큰 네트워크는 첫 번째 에포크 이후 거의 바로 과대적합이 시작되어 갈수록 심해진다. 검증 손실도 매우 불안정하다.**"
   ]
  },
  {
   "cell_type": "code",
   "execution_count": 22,
   "metadata": {},
   "outputs": [
    {
     "data": {
      "image/png": "[encoded data removed]",
      "text/plain": [
       "<Figure size 432x288 with 1 Axes>"
      ]
     },
     "metadata": {},
     "output_type": "display_data"
    }
   ],
   "source": [
    "original_train_loss = original_hist.history['loss']\n",
    "bigger_model_train_loss = bigger_model_hist.history['loss']\n",
    "\n",
    "plt.plot(epochs, original_train_loss, 'b+', label='Original model')\n",
    "plt.plot(epochs, bigger_model_train_loss, 'bo', label='Bigger model')\n",
    "plt.xlabel('Epochs')\n",
    "plt.ylabel('Training loss')\n",
    "plt.legend()\n",
    "\n",
    "plt.show()"
   ]
  },
  {
   "cell_type": "markdown",
   "metadata": {},
   "source": [
    "**위 시각화는 두 네트워크의 훈련 손실을 보여준다. 용량이 큰 네트워크는 훈련 손실이 매우 빠르게 0에 가까워지고 있다. 용량이 많은 네트워크일수록 더 빠르게 훈련 데이터를 모델링할수 있다.(결국 훈련 손실이 낮아진다.) 하지만 더욱 과대적합에 민감해진다.(결국 훈련과 검증 손실 사이에 큰 차이가 발생)**"
   ]
  },
  {
   "cell_type": "markdown",
   "metadata": {},
   "source": [
    "### **4.4.2 가중치 규제 추가**"
   ]
  },
  {
   "cell_type": "markdown",
   "metadata": {},
   "source": [
    "**오캄의 면도날 이론은 어떤 것에 대한 두 가지의 설명이 있다면 더 적은 가정이 필요한 간단한 설명이 옳을 것이라는 이론이다. 이 개념은 신경망으로 학습되는 모델에도 적용된다.**\n",
    "\n",
    "> **어떤 훈련 데이터와 네트워크 구조가 주어졌을 때 데이터를 설명할 수 있는 가중치 값의 집합은 여러 개(여러 개의 모델)이다.**\n",
    "\n",
    "**간단한 모델이 복잡한 모델보다 덜 과대적합될 가능성이 높다.**\n",
    "\n",
    "> **여기에서 간단한 모델은 파라미터 값 분포의 엔트로피가 작은 모델이다.(또는 앞 절에서 본 것 처럼 적은 수의 파라미터를 가진 모델이다.) 그러므로 과대적합을 완화하기 위한 일반적인 방법은 네트워크의 복잡도에 제한을 두어 가중치가 작은 값을 가지도록 강제하는 것이다.**\n",
    "\n",
    "**가중치 값의 분포가 균일해지게 하는 것을 가중치 규제하고 하며, 네트워크의 손실함수에 큰 가중치에 연관된 비용을 추가한다. 두 가지 형태의 비용이 있다.**\n",
    "\n",
    "> **L1규제: 가중치의 절대값에 비례하는 비용이 추가된다.(가중치의 L1노름)**\n",
    "\n",
    "> **L2규제: 가중치의 제곱에 비례하는 비용이 추가된다.(가중치의 L2노름) L2규제는 신경망에서 가중치 감쇠라고도 부른다. 이름이 다르지만 혼동하지 않아도 된다. 가중치 감쇠는 수학적으로 L2규제와 동일하다.**"
   ]
  },
  {
   "cell_type": "code",
   "execution_count": 23,
   "metadata": {},
   "outputs": [],
   "source": [
    "from keras import regularizers"
   ]
  },
  {
   "cell_type": "code",
   "execution_count": 24,
   "metadata": {},
   "outputs": [],
   "source": [
    "l2_model = models.Sequential()"
   ]
  },
  {
   "cell_type": "code",
   "execution_count": 26,
   "metadata": {},
   "outputs": [],
   "source": [
    "# l2(0.001)는 가중치 행렬의 모든 원소를 제곱하고 0.001(람다)을 곱하여 네트워크의 전체 손실에 더해진다.\n",
    "# 이 페널티 항은 훈련할 때만 추가된다.\n",
    "# 이 네트워크의 손실은 테스트보다 훈련할 때 더 높을 것이다.\n",
    "l2_model.add(layers.Dense(16,kernel_regularizer=regularizers.l2(0.001),\n",
    "                         activation='relu',input_shape=(10000,)))\n",
    "l2_model.add(layers.Dense(16,kernel_regularizer=regularizers.l2(0.001),\n",
    "                         activation='relu'))\n",
    "l2_model.add(layers.Dense(1,activation='sigmoid'))"
   ]
  },
  {
   "cell_type": "code",
   "execution_count": 30,
   "metadata": {},
   "outputs": [],
   "source": [
    "l2_model.compile(optimizer='rmsprop',\n",
    "               loss='binary_crossentropy',\n",
    "               metrics=['acc'])"
   ]
  },
  {
   "cell_type": "code",
   "execution_count": 31,
   "metadata": {},
   "outputs": [
    {
     "name": "stdout",
     "output_type": "stream",
     "text": [
      "Train on 25000 samples, validate on 25000 samples\n",
      "Epoch 1/20\n",
      "25000/25000 [==============================] - 6s 238us/step - loss: 0.4884 - acc: 0.8146 - val_loss: 0.3894 - val_acc: 0.8655\n",
      "Epoch 2/20\n",
      "25000/25000 [==============================] - 6s 224us/step - loss: 0.3101 - acc: 0.9056 - val_loss: 0.3303 - val_acc: 0.8891\n",
      "Epoch 3/20\n",
      "25000/25000 [==============================] - 5s 203us/step - loss: 0.2654 - acc: 0.9202 - val_loss: 0.3295 - val_acc: 0.8874\n",
      "Epoch 4/20\n",
      "25000/25000 [==============================] - 5s 206us/step - loss: 0.2453 - acc: 0.9287 - val_loss: 0.3407 - val_acc: 0.8818\n",
      "Epoch 5/20\n",
      "25000/25000 [==============================] - 5s 208us/step - loss: 0.2318 - acc: 0.9348 - val_loss: 0.3797 - val_acc: 0.8688\n",
      "Epoch 6/20\n",
      "25000/25000 [==============================] - 5s 206us/step - loss: 0.2231 - acc: 0.9391 - val_loss: 0.3657 - val_acc: 0.8753\n",
      "Epoch 7/20\n",
      "25000/25000 [==============================] - 5s 207us/step - loss: 0.2165 - acc: 0.9414 - val_loss: 0.3746 - val_acc: 0.8734\n",
      "Epoch 8/20\n",
      "25000/25000 [==============================] - 5s 205us/step - loss: 0.2100 - acc: 0.9442 - val_loss: 0.3735 - val_acc: 0.8749\n",
      "Epoch 9/20\n",
      "25000/25000 [==============================] - 5s 206us/step - loss: 0.2042 - acc: 0.9460 - val_loss: 0.3755 - val_acc: 0.8749\n",
      "Epoch 10/20\n",
      "25000/25000 [==============================] - 5s 207us/step - loss: 0.2006 - acc: 0.9498 - val_loss: 0.3817 - val_acc: 0.8747\n",
      "Epoch 11/20\n",
      "25000/25000 [==============================] - 5s 208us/step - loss: 0.1950 - acc: 0.9488 - val_loss: 0.3835 - val_acc: 0.8756\n",
      "Epoch 12/20\n",
      "25000/25000 [==============================] - 5s 207us/step - loss: 0.1925 - acc: 0.9507 - val_loss: 0.3932 - val_acc: 0.8742\n",
      "Epoch 13/20\n",
      "25000/25000 [==============================] - 5s 205us/step - loss: 0.1881 - acc: 0.9536 - val_loss: 0.3966 - val_acc: 0.8730\n",
      "Epoch 14/20\n",
      "25000/25000 [==============================] - 5s 210us/step - loss: 0.1824 - acc: 0.9561 - val_loss: 0.4117 - val_acc: 0.8704\n",
      "Epoch 15/20\n",
      "25000/25000 [==============================] - 5s 205us/step - loss: 0.1824 - acc: 0.9568 - val_loss: 0.4460 - val_acc: 0.8599\n",
      "Epoch 16/20\n",
      "25000/25000 [==============================] - 5s 207us/step - loss: 0.1763 - acc: 0.9590 - val_loss: 0.4485 - val_acc: 0.8632\n",
      "Epoch 17/20\n",
      "25000/25000 [==============================] - 5s 213us/step - loss: 0.1728 - acc: 0.9598 - val_loss: 0.4222 - val_acc: 0.8694\n",
      "Epoch 18/20\n",
      "25000/25000 [==============================] - 5s 207us/step - loss: 0.1704 - acc: 0.9609 - val_loss: 0.4339 - val_acc: 0.8676\n",
      "Epoch 19/20\n",
      "25000/25000 [==============================] - 5s 216us/step - loss: 0.1666 - acc: 0.9619 - val_loss: 0.4380 - val_acc: 0.8665\n",
      "Epoch 20/20\n",
      "25000/25000 [==============================] - 5s 207us/step - loss: 0.1634 - acc: 0.9632 - val_loss: 0.4352 - val_acc: 0.8678\n"
     ]
    }
   ],
   "source": [
    "l2_model_hist = l2_model.fit(x_train,y_train,\n",
    "                            epochs=20,\n",
    "                            batch_size=512,\n",
    "                            validation_data=(x_test,y_test))"
   ]
  },
  {
   "cell_type": "code",
   "execution_count": 32,
   "metadata": {},
   "outputs": [
    {
     "data": {
      "image/png": "[encoded data removed]",
      "text/plain": [
       "<Figure size 432x288 with 1 Axes>"
      ]
     },
     "metadata": {},
     "output_type": "display_data"
    }
   ],
   "source": [
    "l2_model_val_loss = l2_model_hist.history['val_loss']\n",
    "\n",
    "plt.plot(epochs, original_val_loss,'b+',label='Original model')\n",
    "plt.plot(epochs, l2_model_val_loss,'bo',label='L2-regularized model')\n",
    "plt.xlabel('Epochs')\n",
    "plt.ylabel('Validation loss')\n",
    "plt.legend()\n",
    "\n",
    "plt.show()"
   ]
  },
  {
   "cell_type": "markdown",
   "metadata": {},
   "source": [
    "**여기서 볼 수 있듯이 두 모델이 동일한 파라미터 수를 가지고 있더라도 L2규제를 사용한 모델(점)이 기본 모델(덧셈 기호)보다 훨씬 더 과대적합에 잘 견디고 있다.**"
   ]
  },
  {
   "cell_type": "code",
   "execution_count": 33,
   "metadata": {},
   "outputs": [],
   "source": [
    "# L1(0.0001)모델과 비교\n",
    "\n",
    "l1_model = models.Sequential()\n",
    "l1_model.add(layers.Dense(16, kernel_regularizer=regularizers.l1(0.0001),\n",
    "                          activation='relu', input_shape=(10000,)))\n",
    "l1_model.add(layers.Dense(16, kernel_regularizer=regularizers.l1(0.0001),\n",
    "                          activation='relu'))\n",
    "l1_model.add(layers.Dense(1, activation='sigmoid'))"
   ]
  },
  {
   "cell_type": "code",
   "execution_count": 34,
   "metadata": {},
   "outputs": [],
   "source": [
    "l1_model.compile(optimizer='rmsprop',\n",
    "                 loss='binary_crossentropy',\n",
    "                 metrics=['acc'])"
   ]
  },
  {
   "cell_type": "code",
   "execution_count": 35,
   "metadata": {},
   "outputs": [
    {
     "name": "stdout",
     "output_type": "stream",
     "text": [
      "Train on 25000 samples, validate on 25000 samples\n",
      "Epoch 1/20\n",
      "25000/25000 [==============================] - 6s 245us/step - loss: 0.5501 - acc: 0.8251 - val_loss: 0.4247 - val_acc: 0.8734oss: 0.7041 -  - ETA: 1s - loss\n",
      "Epoch 2/20\n",
      "25000/25000 [==============================] - 5s 209us/step - loss: 0.3634 - acc: 0.8957 - val_loss: 0.3739 - val_acc: 0.8832\n",
      "Epoch 3/20\n",
      "25000/25000 [==============================] - 5s 210us/step - loss: 0.3259 - acc: 0.9055 - val_loss: 0.3761 - val_acc: 0.8753\n",
      "Epoch 4/20\n",
      "25000/25000 [==============================] - 5s 208us/step - loss: 0.3046 - acc: 0.9147 - val_loss: 0.3524 - val_acc: 0.8879\n",
      "Epoch 5/20\n",
      "25000/25000 [==============================] - 5s 209us/step - loss: 0.2944 - acc: 0.9179 - val_loss: 0.3568 - val_acc: 0.8863\n",
      "Epoch 6/20\n",
      "25000/25000 [==============================] - 5s 208us/step - loss: 0.2873 - acc: 0.9206 - val_loss: 0.3905 - val_acc: 0.8731\n",
      "Epoch 7/20\n",
      "25000/25000 [==============================] - 5s 215us/step - loss: 0.2784 - acc: 0.9245 - val_loss: 0.3772 - val_acc: 0.8805\n",
      "Epoch 8/20\n",
      "25000/25000 [==============================] - 5s 207us/step - loss: 0.2760 - acc: 0.9251 - val_loss: 0.3706 - val_acc: 0.8831\n",
      "Epoch 9/20\n",
      "25000/25000 [==============================] - 5s 212us/step - loss: 0.2731 - acc: 0.9265 - val_loss: 0.3745 - val_acc: 0.8840\n",
      "Epoch 10/20\n",
      "25000/25000 [==============================] - 5s 207us/step - loss: 0.2646 - acc: 0.9322 - val_loss: 0.3773 - val_acc: 0.8818\n",
      "Epoch 11/20\n",
      "25000/25000 [==============================] - 5s 207us/step - loss: 0.2611 - acc: 0.9329 - val_loss: 0.3935 - val_acc: 0.8756\n",
      "Epoch 12/20\n",
      "25000/25000 [==============================] - 5s 208us/step - loss: 0.2593 - acc: 0.9342 - val_loss: 0.4140 - val_acc: 0.8691\n",
      "Epoch 13/20\n",
      "25000/25000 [==============================] - 5s 206us/step - loss: 0.2534 - acc: 0.9349 - val_loss: 0.4158 - val_acc: 0.8699\n",
      "Epoch 14/20\n",
      "25000/25000 [==============================] - 5s 208us/step - loss: 0.2486 - acc: 0.9396 - val_loss: 0.4449 - val_acc: 0.8614\n",
      "Epoch 15/20\n",
      "25000/25000 [==============================] - 5s 208us/step - loss: 0.2463 - acc: 0.9380 - val_loss: 0.3934 - val_acc: 0.8782\n",
      "Epoch 16/20\n",
      "25000/25000 [==============================] - 5s 209us/step - loss: 0.2386 - acc: 0.9420 - val_loss: 0.4301 - val_acc: 0.8667\n",
      "Epoch 17/20\n",
      "25000/25000 [==============================] - 5s 209us/step - loss: 0.2385 - acc: 0.9436 - val_loss: 0.4100 - val_acc: 0.8751\n",
      "Epoch 18/20\n",
      "25000/25000 [==============================] - 5s 207us/step - loss: 0.2312 - acc: 0.9455 - val_loss: 0.4083 - val_acc: 0.8744\n",
      "Epoch 19/20\n",
      "25000/25000 [==============================] - 5s 208us/step - loss: 0.2266 - acc: 0.9482 - val_loss: 0.4092 - val_acc: 0.8748\n",
      "Epoch 20/20\n",
      "25000/25000 [==============================] - 5s 210us/step - loss: 0.2216 - acc: 0.9497 - val_loss: 0.4132 - val_acc: 0.8746\n"
     ]
    }
   ],
   "source": [
    "l1_model_hist = l1_model.fit(x_train, y_train,\n",
    "                             epochs=20,\n",
    "                             batch_size=512,\n",
    "                             validation_data=(x_test, y_test))"
   ]
  },
  {
   "cell_type": "code",
   "execution_count": 36,
   "metadata": {},
   "outputs": [
    {
     "data": {
      "image/png": "[encoded data removed]",
      "text/plain": [
       "<Figure size 432x288 with 1 Axes>"
      ]
     },
     "metadata": {},
     "output_type": "display_data"
    }
   ],
   "source": [
    "l1_model_val_loss = l1_model_hist.history['val_loss']\n",
    "\n",
    "plt.plot(epochs, original_val_loss, 'b+', label='Original model')\n",
    "plt.plot(epochs, l1_model_val_loss, 'bo', label='L1-regularized model')\n",
    "plt.xlabel('Epochs')\n",
    "plt.ylabel('Validation loss')\n",
    "plt.legend()\n",
    "\n",
    "plt.show()"
   ]
  },
  {
   "cell_type": "markdown",
   "metadata": {},
   "source": [
    "### **4.4.3 드롭아웃 추가**"
   ]
  },
  {
   "cell_type": "markdown",
   "metadata": {},
   "source": [
    "**드롭아웃은 신경망을 위해 사용되는 규제 기법 중에서 가장 효과적이고 널리 사용되는 방법 중 하나이다.**\n",
    "\n",
    "**네트워크 층에 드롭아웃을 적용하면 훈련하는 동안 무작위로 층의 일부 출력 특성을 제외시킨다.(0으로 만든다)**\n",
    "\n",
    "> **예를 들어 어떤 입력 샘플에 대해 [0.2,0.5,1.3,0.8,1.1] 벡터를 출력한다고 가정했을 때 드롭아웃을 적용하면 이벡터의 일부가 무작위로 0으로 바뀌어 [0,0.5,1.3,0,1.1]이 된다.**\n",
    "\n",
    "> **드롭아웃 비율은 0이 될 특성의 비율이다. 보통 0.2 ~ 0.5 사이로 지정**\n",
    "\n",
    "**테스트 단계에서는 어떤 유닛도 드롭아웃되지 않는다. 그 대신에 층의 출력을 드롭아웃 비율에 비례하여 줄여 준다. 훈련 할 때보다 더 많은 유닛이 활성화되기 때문이다.**"
   ]
  },
  {
   "cell_type": "markdown",
   "metadata": {},
   "source": [
    "**드롭아웃은 뉴런을 임의로 삭제하면서 학습하는 방법이다.**\n",
    "\n",
    "> **훈련 때 은닉층의 뉴런을 무작위로 골라 삭제한다.**\n",
    "\n",
    "> **삭제된 뉴런은 아래 그림과 같이 신호를 전달하지 않게 된다.**\n",
    "\n",
    "> **훈련 때는 데이터를 흘릴 때마다 삭제할 뉴런을 무작위로 선택하고, 시험 때는 모든 뉴런에 신호를 전달합니다.**\n",
    "\n",
    "> **단, 시험 때는 각 뉴런의 출력에 훈련 때 삭제한 비율을 곱하여 출력**"
   ]
  },
  {
   "cell_type": "markdown",
   "metadata": {},
   "source": [
    "![test](./img/드롭아웃.png)"
   ]
  },
  {
   "cell_type": "markdown",
   "metadata": {},
   "source": [
    "**드롭아웃이 과대적합을 주이는 데 도움이 된 이유는 각 샘플에 대해 뉴런의 일부를 무작위하게 제거하면 뉴런의 부정한 협업을 방지하고 결국 과대적합을 감소시킨다는 것을 깨달았다. 핵심 아이디어는 층의 출력 값에 노이즈를 추가하여 중요하지 않은 우연한 패턴을 깨뜨리는 것이다.**"
   ]
  },
  {
   "cell_type": "code",
   "execution_count": 37,
   "metadata": {},
   "outputs": [],
   "source": [
    "dpt_model = models.Sequential()\n",
    "dpt_model.add(layers.Dense(16, activation='relu', input_shape=(10000,)))\n",
    "dpt_model.add(layers.Dropout(0.5))\n",
    "dpt_model.add(layers.Dense(16, activation='relu'))\n",
    "dpt_model.add(layers.Dropout(0.5))\n",
    "dpt_model.add(layers.Dense(1, activation='sigmoid'))\n",
    "\n",
    "dpt_model.compile(optimizer='rmsprop',\n",
    "                  loss='binary_crossentropy',\n",
    "                  metrics=['acc'])"
   ]
  },
  {
   "cell_type": "code",
   "execution_count": 38,
   "metadata": {},
   "outputs": [
    {
     "name": "stdout",
     "output_type": "stream",
     "text": [
      "Train on 25000 samples, validate on 25000 samples\n",
      "Epoch 1/20\n",
      "25000/25000 [==============================] - 8s 307us/step - loss: 0.6373 - acc: 0.6424 - val_loss: 0.5678 - val_acc: 0.8512\n",
      "Epoch 2/20\n",
      "25000/25000 [==============================] - 5s 210us/step - loss: 0.5275 - acc: 0.7982 - val_loss: 0.4522 - val_acc: 0.8779395 \n",
      "Epoch 3/20\n",
      "25000/25000 [==============================] - 5s 205us/step - loss: 0.4383 - acc: 0.8528 - val_loss: 0.3649 - val_acc: 0.8831\n",
      "Epoch 4/20\n",
      "25000/25000 [==============================] - 5s 211us/step - loss: 0.3632 - acc: 0.8814 - val_loss: 0.3204 - val_acc: 0.8850\n",
      "Epoch 5/20\n",
      "25000/25000 [==============================] - 5s 204us/step - loss: 0.3147 - acc: 0.8996 - val_loss: 0.2972 - val_acc: 0.8861\n",
      "Epoch 6/20\n",
      "25000/25000 [==============================] - 5s 205us/step - loss: 0.2783 - acc: 0.9126 - val_loss: 0.2898 - val_acc: 0.8886\n",
      "Epoch 7/20\n",
      "25000/25000 [==============================] - 5s 207us/step - loss: 0.2496 - acc: 0.9206 - val_loss: 0.2907 - val_acc: 0.8840\n",
      "Epoch 8/20\n",
      "25000/25000 [==============================] - 5s 207us/step - loss: 0.2261 - acc: 0.9292 - val_loss: 0.3155 - val_acc: 0.8856\n",
      "Epoch 9/20\n",
      "25000/25000 [==============================] - 5s 208us/step - loss: 0.2061 - acc: 0.9343 - val_loss: 0.3317 - val_acc: 0.8853\n",
      "Epoch 10/20\n",
      "25000/25000 [==============================] - 5s 205us/step - loss: 0.1903 - acc: 0.9398 - val_loss: 0.3345 - val_acc: 0.8846\n",
      "Epoch 11/20\n",
      "25000/25000 [==============================] - 5s 206us/step - loss: 0.1765 - acc: 0.9459 - val_loss: 0.3469 - val_acc: 0.8816\n",
      "Epoch 12/20\n",
      "25000/25000 [==============================] - 5s 218us/step - loss: 0.1656 - acc: 0.9476 - val_loss: 0.4213 - val_acc: 0.8754\n",
      "Epoch 13/20\n",
      "25000/25000 [==============================] - 5s 207us/step - loss: 0.1575 - acc: 0.9496 - val_loss: 0.4087 - val_acc: 0.8810\n",
      "Epoch 14/20\n",
      "25000/25000 [==============================] - 5s 209us/step - loss: 0.1497 - acc: 0.9527 - val_loss: 0.4127 - val_acc: 0.8790\n",
      "Epoch 15/20\n",
      "25000/25000 [==============================] - 5s 206us/step - loss: 0.1438 - acc: 0.9552 - val_loss: 0.4456 - val_acc: 0.8772\n",
      "Epoch 16/20\n",
      "25000/25000 [==============================] - 5s 207us/step - loss: 0.1395 - acc: 0.9572 - val_loss: 0.4452 - val_acc: 0.8770\n",
      "Epoch 17/20\n",
      "25000/25000 [==============================] - 5s 205us/step - loss: 0.1302 - acc: 0.9597 - val_loss: 0.4873 - val_acc: 0.8779\n",
      "Epoch 18/20\n",
      "25000/25000 [==============================] - 5s 205us/step - loss: 0.1279 - acc: 0.9602 - val_loss: 0.4867 - val_acc: 0.8750\n",
      "Epoch 19/20\n",
      "25000/25000 [==============================] - 5s 206us/step - loss: 0.1254 - acc: 0.9618 - val_loss: 0.4974 - val_acc: 0.8734\n",
      "Epoch 20/20\n",
      "25000/25000 [==============================] - 5s 207us/step - loss: 0.1202 - acc: 0.9626 - val_loss: 0.5638 - val_acc: 0.8727\n"
     ]
    }
   ],
   "source": [
    "dpt_model_hist = dpt_model.fit(x_train, y_train,\n",
    "                               epochs=20,\n",
    "                               batch_size=512,\n",
    "                               validation_data=(x_test, y_test))"
   ]
  },
  {
   "cell_type": "code",
   "execution_count": 39,
   "metadata": {},
   "outputs": [
    {
     "data": {
      "image/png": "[encoded data removed]",
      "text/plain": [
       "<Figure size 432x288 with 1 Axes>"
      ]
     },
     "metadata": {},
     "output_type": "display_data"
    }
   ],
   "source": [
    "dpt_model_val_loss = dpt_model_hist.history['val_loss']\n",
    "\n",
    "plt.plot(epochs, original_val_loss, 'b+', label='Original model')\n",
    "plt.plot(epochs, dpt_model_val_loss, 'bo', label='Dropout-regularized model')\n",
    "plt.xlabel('Epochs')\n",
    "plt.ylabel('Validation loss')\n",
    "plt.legend()\n",
    "\n",
    "plt.show()"
   ]
  },
  {
   "cell_type": "markdown",
   "metadata": {},
   "source": [
    "**여기에서도 기본 네트워크보다 확실히 향상되었다. 정리하면 신경망에서 과대적합을 방지하기 위해 가장 널리 사용하는 방법은 다음과 같다.**\n",
    "\n",
    "> **훈련 데이터를 더 모은다.**\n",
    "\n",
    "> **네트워크의 용량을 감소시킨다.**\n",
    "\n",
    "> **가중치 규제를 추가한다.**\n",
    "\n",
    "> **드롭아웃을 추가한다.**"
   ]
  },
  {
   "cell_type": "markdown",
   "metadata": {},
   "source": [
    "## **4.5 보편적인 머신 러닝 작업 흐름**"
   ]
  },
  {
   "cell_type": "markdown",
   "metadata": {},
   "source": [
    "### **4.5.1 문제 정의와 데이터셋 수집**"
   ]
  },
  {
   "cell_type": "markdown",
   "metadata": {},
   "source": [
    "**먼저 주어진 문제를 정의해야 한다.**\n",
    "\n",
    "> **입력 데이터는 무엇인가? 어떤 것을 예측하려고 하는가? 가용한 훈련 데이터가 있어야 어떤 것을 예측하도록 학습할 수 있다. 예를 들어 영화 리뷰와 감성 레이블이 태깅되어있어야 영화 리뷰 감성 분류를 학습할 수 있다. 이런 식으로 보통 가용 데이터의 유무는 이 단계에서 제한 요소가 된다.(데이터를 수집할 비용이 없다면)**\n",
    "\n",
    "> **당면한 문제가 어떤 종류인가? 이진 분류인가? 다중 분류인가? 스칼라 회귀인가? 벡터 회귀인가? 아니면 군집, 생성 또는 강화 학습 같은 다른 문제인가? 문제의 유형을 식별하면 모델의 구조와 손실 함수 등을 선택하는 데 도움이 된다.**\n",
    "\n",
    "**입력과 출력이 무엇인지와 어떤 데이터를 사용할 것인지 알기 전까지는 다음 단계로 넘어갈 수 없다. 이 단계에서는 가설을 세워야 한다.**\n",
    "\n",
    "> **주어진 입력으로 출력을 예측할 수 있다고 가설을 세운다.**\n",
    "\n",
    "> **가용한 데이터에 입력과 출력 사이의 관계를 학습하는 데 충분한 정보가 있다고 가설을 세운다.**\n",
    "\n",
    "**모델이 작동하기 전까지 이는 가설에 불과하다. 검증될지 아닐지 기다려 보아야 한다.**"
   ]
  },
  {
   "cell_type": "markdown",
   "metadata": {},
   "source": [
    "**풀기 어려운 종류의 문제는 시간에 따라 변하는 문제이다.**\n",
    "\n",
    "> **옷을 위한 추천 엔진을 구축한다고 가정할때 한 달치(8월)의 데이터로 훈련하고 겨울에 이 추천 엔진을 사용하려고 할때 여기서 문제는 사람들이 계절에 따라 구매하려는 옷의 종류가 바뀐다는 것이다. 의류 구매는 몇 달에 걸쳐 보면 시간에 따라 바뀌어 유동적이다.**\n",
    "\n",
    "> **시간에 따라 모델을 바꾸기 위해서는 최근의 데이터로 주기적으로 모델을 다시 훈련하거나 시간 분포에 맞게 데이터를 수집하여 시간에 따라 변하지 않는 문제로 바꾼다. 의류 구매처럼 순환성이 있는 문제는 몇 년치의 데이터를 모으면 계절의 변화를 감지하는 데 충분할 것이다. 1년 중 언제인지 기록한 시간도 모델에 입력해야 한다는 것을 잊으면 안된다.**\n",
    "\n",
    "**머신 러닝은 훈련 데이터에 있는 패턴을 기억하기 위해서만 사용한다는 것을 유념해야한다. 즉, 이미 보았던 것만 인식할 수 있다. 미래를 예측하기 위해 과거 데이터에서 훈련한 머신러닝을 사용하는 것은 미래가 과거처럼 움직인다고 가정한 것이다. 사실 대부분 그렇지는 않다.**"
   ]
  },
  {
   "cell_type": "markdown",
   "metadata": {},
   "source": [
    "### **4.5.2 성공 지표 선택**"
   ]
  },
  {
   "cell_type": "markdown",
   "metadata": {},
   "source": [
    "**어떤 것을 제어하려면 관측할 수 있어야 한다. 성공하기 위해서는 성공은 무엇인가를 정의해야 한다. 정확도일까? 정밀도나 재현율일까? 고객 재방문율일까? 성공의 지표가 모델이 최적화할 손실 함수를 선택하는 기준이 된다.**"
   ]
  },
  {
   "cell_type": "markdown",
   "metadata": {},
   "source": [
    "**클래스 분포가 균일한 분류 문제에서는 정확도와 ROC AUC가 일반적인 지표이다. 클래스 분포가 균일하지 않은 문제에서는 정밀도와 재현율을 사용할 수 있다.**"
   ]
  },
  {
   "cell_type": "markdown",
   "metadata": {},
   "source": [
    "**랭킹 문제나 다중 레이블 문제에는 평균 정밀도를 사용할 수 있다.**"
   ]
  },
  {
   "cell_type": "markdown",
   "metadata": {},
   "source": [
    "### **4.5.3 평가 방법 선택**"
   ]
  },
  {
   "cell_type": "markdown",
   "metadata": {},
   "source": [
    "**잘 알려진 세 가지의 평가 방식**\n",
    "\n",
    "> **홀드아웃 검증 세트 분리: 데이터가 풍부할 때 사용한다.**\n",
    "\n",
    "> **K-겹 교차 검증: 홀드아웃 검증을 사용하기에 샘플의 수가 적을 때 사용한다.**\n",
    "\n",
    "> **반복 K-겹 교차 검증: 데이터가 적고 매우 정확한 모델 평가가 필요할 때 사용한다.**\n",
    "\n",
    "**K-겹 교차 검증은 얕은 학습 방법에서 자주 사용되는데, 보통 딥러닝을 사용할 때는 데이터가 풍부한 상황이므로 홀드아웃 방법으로 대체할 수 있다. 대규모 딥러닝 모델은 훈련 비용이 너무 커서 교차 검증을 적용하기 어려울 때가 많다.**\n"
   ]
  },
  {
   "cell_type": "markdown",
   "metadata": {},
   "source": [
    "### **4.5.4 데이터 준비**"
   ]
  },
  {
   "cell_type": "markdown",
   "metadata": {},
   "source": [
    "**무엇을 훈련할지와 무엇을 최적화할지, 그리고 어떻게평가할지를 정했다면 거의 모델을 훈련 시킬 준비가 되었다. 하지만 먼저 머신 러닝 모델에 주입할 데이터를 구성해야 한다.**\n",
    "\n",
    "> **앞서 보았듯이 데이터는 텐서로 구성된다.**\n",
    "\n",
    "> **이 텐서에 있는 값은 일반적으로 작은 값으로 스케일 조정되어 있다. [-1,1]이나 [0,1]범위이다.**\n",
    "\n",
    "> **특성마다 범위가 다르면(여러 종류의 값으로 이루어진 데이터라면) 정규화해야 한다.**\n",
    "\n",
    "> **특성 공학을 수행할 수 있다. 특히 데이터가 적을 때**\n",
    "\n",
    "**입력 데이터와 타깃 데이터의 텐서가 준비되면 모델을 훈련시킬 수 있다.**"
   ]
  },
  {
   "cell_type": "markdown",
   "metadata": {},
   "source": [
    "### **4.5.5 기본보다 나은 모델 훈련하기**"
   ]
  },
  {
   "cell_type": "markdown",
   "metadata": {},
   "source": [
    "**이 단계의 목표는 통계적 검정력을 달성하는 것이다.**\n",
    "\n",
    "> **즉, 아주 단순한 모델보다 나은 수준의 작은 모델을 개발한다.**\n",
    "\n",
    "> **여기서 검정력은 우리가 세운 가설이 참일 때 이를 채택할 확률을 말한다. 여기에서는 적어도 데이터셋에 있는 클래스별 분포보다 모델의 정확도가 높아야 우리가 세운 가설이 옳다고 말할 수 있다.**\n",
    "\n",
    "**여러 개의 타당성 있는 네트워크 구조를 시도해 보고 무작위로 예측하는 모델보다 낫지 않다면 입력 데이터에 존재하지 않는 것을 얻으려고 한다는 신호일 것이다.**\n",
    "\n",
    "> **주어진 입력으로 출력을 예측할 수 있다고 가설을 세운다.**\n",
    "\n",
    "> **가용한 데이터에 입력과 출력 사이의 관계를 학습하는 데 충분한 정보가 있다고 가설을 세운다.**\n",
    "\n",
    "**만약 위 가설이 잘못된 것이라면 이때는 기획부터 다시 해야한다.**"
   ]
  },
  {
   "cell_type": "markdown",
   "metadata": {},
   "source": [
    "**일이 잘 진행된다고 가정하면 첫 번째 모델을 만들기 위해 세 가지 중요한 선택을 해야한다.**\n",
    "\n",
    "> **마지막 층의 활성화 함수: 네트워크의 출력에 필요한 제한을 가한다. 예를 들어 IMDB 분류 예는 마지막 층에 시그모이드 함수를 사용한다. 회귀 예에서는 마지막 층에 활성화 함수를 사용하지 않는다.**\n",
    "\n",
    "> **손실 함수: 풀려고 하는 문제의 종류에 적합해야 한다. 예를 들어 분류 문제에서는 Crossentropy를 사용하고, 회귀 문제에서는 mse를 사용하는 식이다.**\n",
    "\n",
    "> **최적화 설정: 어떤 옵티마이저를 사용하나요? 학습률은 얼마인가요? 대부분의 경우 rmsprop과 기본 학습률을 사용하는 것이 무난하다.**\n",
    "\n",
    "> **자주 사용하는 옵티마이저 중 'rmsprop','adam'는 기본 학습률이 0.001, 'sgd','adagrad'는 0.01이다.**"
   ]
  },
  {
   "cell_type": "markdown",
   "metadata": {},
   "source": [
    "**손실 함수의 선택에 대해서 언급할 것은 주어진 문제의 성공 지표를 직접 최적화하는 것이 항상 가능하지 않다는 점이다. 때로는 이 지표를 손실 함수로 바꿀 수 있는 방법이 없다.**"
   ]
  },
  {
   "cell_type": "markdown",
   "metadata": {},
   "source": [
    "**무엇보다도 손실 함수는 주어진 미니 배치 데이터에서 계산 가능해야 하고(이상적으로는 손실 함수는 하나의 데이터 포인트에서도 계산 가능해야 한다.), 미분 가능해야 한다.(그렇지 않으면 역전파 알고리즘을 사용하여 네트워크를 훈련 시킬 수 없다.)**\n",
    "\n",
    "> **예를 들어 널리 사용되는 분류 지표인 ROC AUC는 직접 최적화 할수 없다.(미분 불가능 함수) 그래서 분류 작업에는 크로스엔트로피처럼 ROC AUC를 대신할 지표를 최적화하는 것이 보통이다.**\n",
    "\n",
    "**일반적으로 크로스엔트로피가 낮을수록 ROC AUC가 높다고 기대할 수 있다.**\n",
    "\n",
    "|   문제유형  | 마지막 층의 활성화 함수 |손실함수 |\n",
    "|---|:---:|---:|\n",
    "| `이진분류` |시그모이드  | binary_crossentropy |\n",
    "| `단일 레이블 다중 분류`| 소프트맥스| categorical_crossentropy |\n",
    "| `임의 값에 대한 회귀`| 없음| mse |\n",
    "|`0과 1 사이 값에 대한 회귀`| 시그모이드| mse 또는 binary_crossentropy |"
   ]
  },
  {
   "cell_type": "markdown",
   "metadata": {},
   "source": [
    "### **4.5.6 몸집 키우기: 과대적합 모델 구축**"
   ]
  },
  {
   "cell_type": "markdown",
   "metadata": {},
   "source": [
    "**통계적 검정력을 가진 모델을 얻었다면 이제 모델이 충분히 성능을 내는지 질문해 보아야 한다.**\n",
    "\n",
    "> **주어진 문제를 적절히 모델링하기에 충분한 층과 파라미터가 있나?**\n",
    "\n",
    "> **예를 들어 2개의 유닉을 가진 하나의 은닉층으로 구성된 네트워크가 있다고 가정할떄, 이 네트워크가 MNIST 데이터셋에서 통계적 검정력을 가질 수 있지만 문제를 잘 해결하기에는 충분하지 않을 것이다.**\n",
    "\n",
    "**머신 러닝은 최적화와 일반화 사이의 줄다리기라는 점을 기억하자**\n",
    "\n",
    "> **과소적합과 과대적합 사이, 즉 과소용량과 과대용량의 경계에 적절히 위치한 모델이 이상적이다.**\n",
    "\n",
    "**얼마나 큰 모델을 만들어야 하는지 알기 위해서는 과대적합된 모델을 만들어야 한다.**\n",
    "\n",
    "> **1. 층을 추가한다.**\n",
    "\n",
    "> **2. 층의 크기를 키운다.**\n",
    "\n",
    "> **3. 더 많은 에포크 동안 훈련한다.**\n",
    "\n",
    "**관심 대상인 훈련과 검증 지표는 물론 항상 훈련 손실과 검증 손실을 모니터링하자. 검증 데이터에서 모델 성능이 감소하기 시작했을 때 과대적합에 도달한 것이다.**"
   ]
  },
  {
   "cell_type": "markdown",
   "metadata": {},
   "source": [
    "### **4.5.7 모델 규제와 하이퍼파라미터 튜닝**"
   ]
  },
  {
   "cell_type": "markdown",
   "metadata": {},
   "source": [
    "**반복적으로 모델을 수정하고 훈련하고 검증 데이터에서 평가한다.(이때 테스트 데이터를 사용하지 않는다.) 그리고 다시 수정하고 가능한 좋은 모델을 얻을 때 까지 반복한다.**\n",
    "\n",
    "> **드롭아웃을 추가한다.**\n",
    "\n",
    "> **층을 추가하거나 제거해서 다른 구조를 시험해 본다**\n",
    "\n",
    "> **L1이나 L2 또는 두 가지 모두 추가한다.**\n",
    "\n",
    "> **최적의 설정을 찾기 위해 하이퍼파라미터를 바꾸어 시도해본다.(층의 유닛 수나 옵티마이저의 학습률 등)**\n",
    "\n",
    "> **선택적으로 특성 공학을 시도해 본다. 새로운 특성을 추가하거나 유용하지 않을 것 같은 특성을 제거한다.**\n",
    "\n",
    "**검증 과정에서 얻은 피드백을 사용하여 모델을 튜닝할 때마다 검증 과정에 대한 정보를 모델에 누설하고 있다는 것이다.**"
   ]
  },
  {
   "cell_type": "markdown",
   "metadata": {},
   "source": [
    "**몇 번만 반복하는 것은 큰 문제가 되지 않지만 많이 반복하게 되면 결국 모델이 검증 과정에 과대적합될 것이다.(모델이 검증 데이터에서 전혀 훈련되지 않는데도 말입니다.) 이는 검증 과정의 신뢰도를 감소시킨다.**"
   ]
  },
  {
   "cell_type": "markdown",
   "metadata": {},
   "source": [
    "**만족할 만한 모델 설정을 얻었다면 가용한 모든 데이터(훈련 데이터와 검증 데이터)를 사용해서 제품에 투입할 최종 모델을 훈련시킨다. 그리고 마지막에 딱 한 번 테스트 세트에서 평가한다.**\n",
    "\n",
    "> **테스트 세트의 성능이 검증 데이터에서 측정한 것보다 많이 나쁘다면, 검증 과정에 전혀 신뢰성이 없거나 모델의 하이퍼파라미터를 튜닝하는 동안 검증 데이터에 과대적합된 것이다.**\n",
    "\n",
    "**이런 경우 좀 더 신뢰할 만한 평가 방법으로 바꾸는 것이 좋다.(반복 k-겹 교차검증)**"
   ]
  },
  {
   "cell_type": "code",
   "execution_count": null,
   "metadata": {},
   "outputs": [],
   "source": []
  }
 ],
 "metadata": {
  "kernelspec": {
   "display_name": "Python 3",
   "language": "python",
   "name": "python3"
  },
  "language_info": {
   "codemirror_mode": {
    "name": "ipython",
    "version": 3
   },
   "file_extension": ".py",
   "mimetype": "text/x-python",
   "name": "python",
   "nbconvert_exporter": "python",
   "pygments_lexer": "ipython3",
   "version": "3.6.9"
  }
 },
 "nbformat": 4,
 "nbformat_minor": 2
}
